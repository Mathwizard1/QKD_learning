{
 "cells": [
  {
   "cell_type": "markdown",
   "metadata": {},
   "source": [
    "# Quantum Quake 2.0\n",
    "\n",
    "# ![Quantum Quake 2.0](QQ2.jpeg)"
   ]
  },
  {
   "cell_type": "code",
   "execution_count": null,
   "metadata": {},
   "outputs": [],
   "source": [
    "''' \n",
    "Create a virtual environment First\n",
    "Run the follow command to install all library:\n",
    "    pip install requirements.txt -r\n",
    "Set up the kernel as the virtual environment\n",
    "'''\n",
    "\n",
    "# Import necessary components from Qiskit\n",
    "import qiskit\n",
    "from qiskit import QuantumCircuit, transpile\n",
    "from qiskit_aer import AerSimulator\n",
    "from qiskit.visualization import plot_histogram\n",
    "from qiskit.quantum_info import random_unitary\n",
    "from qiskit.visualization.bloch import Bloch\n",
    "\n",
    "import random as rd"
   ]
  },
  {
   "cell_type": "markdown",
   "metadata": {},
   "source": [
    "### Test the libraries are properly working"
   ]
  },
  {
   "cell_type": "code",
   "execution_count": null,
   "metadata": {},
   "outputs": [],
   "source": [
    "print(\"qiskit version:\",qiskit.__version__)\n",
    "bloch = Bloch()\n",
    "bloch.vector_color = ['red', 'red', 'blue', 'blue']\n",
    "\n",
    "sv = []\n",
    "sv.append([0,0,1])  # |0> in red\n",
    "sv.append([0,0,-1]) # |1> in red\n",
    "sv.append([1,0,0])  # |+> in blue\n",
    "sv.append([-1,0,0]) # |-> in blue\n",
    "\n",
    "bloch.add_vectors(sv)\n",
    "bloch.render()"
   ]
  },
  {
   "cell_type": "code",
   "execution_count": null,
   "metadata": {},
   "outputs": [],
   "source": [
    "# helper.py must be there, its an important file.\n",
    "from helper import message_bits, possible_bases, encryption_decryption, QQ2grader\n",
    "\n",
    "'''\n",
    "In case this shows error of cannot import from helper:\n",
    "1 Restart\n",
    "2 Run All\n",
    "'''\n",
    "\n",
    "# Give us your intro\n",
    "####  Code goes here  ####\n",
    "name = \"\"\n",
    "rollno = \"\"\n",
    "\n",
    "grader = QQ2grader()\n",
    "\n",
    "grader.set_person(name, rollno)\n",
    "grader.intro_message()"
   ]
  },
  {
   "cell_type": "markdown",
   "metadata": {},
   "source": [
    "#### Resources:\n",
    "1) [Simulation for understanding B92](https://www.st-andrews.ac.uk/physics/quvis/simulations_html5/sims/cryptography-b92/B92_photons.html)\n",
    "2) [B92 protocol Experiment](https://www.rri.res.in/quic/qkdactivities.php)\n",
    "3) [fundamentals of OKD](https://medium.com/@qcgiitr/fundamentals-of-quantum-key-distribution-bb84-b92-e91-protocols-e1373b683ead)"
   ]
  },
  {
   "cell_type": "markdown",
   "metadata": {},
   "source": [
    "### Mission Objective:\n",
    "- Implement the B92 Quantum Key Distribution protocol in this Jupyter notebook using Qiskit. \n",
    "- Ensure that Agent A and Agent B successfully exchange a secret quantum key."
   ]
  },
  {
   "cell_type": "code",
   "execution_count": null,
   "metadata": {},
   "outputs": [],
   "source": [
    "# We are going to send a binary message\n",
    "print(f\"Message contains: {message_bits}\")\n",
    "\n",
    "# In the B92 Protocol, We use two basis for the encryption and measurement\n",
    "print(f\"Used_bases: {possible_bases}\")  # Horizontal (H) for 0 or 90 deg, Diagonal (D) for + or -45 deg"
   ]
  },
  {
   "cell_type": "markdown",
   "metadata": {},
   "source": [
    "Let us first generate a random message for Agent A"
   ]
  },
  {
   "cell_type": "code",
   "execution_count": null,
   "metadata": {},
   "outputs": [],
   "source": [
    "# random message\n",
    "def generate_random_bits(length):\n",
    "    bits = [rd.choice(message_bits) for _ in range(length)]\n",
    "    return bits\n",
    "\n",
    "# Thus we need to generate a key for encryption\n",
    "key_length = 16  # Length of the key you want to generate\n",
    "\n",
    "# Generate Agent Alice's random bits and bases\n",
    "alice_bits = generate_random_bits(key_length)\n",
    "\n",
    "print(f\"Bits: {alice_bits}\")"
   ]
  },
  {
   "cell_type": "markdown",
   "metadata": {},
   "source": [
    "#### TASK 1\n",
    "Prepare the states for Agent Alice based on the B92 protocol.\n",
    "- *Basis:* H, D (not to confuse with gates !)\n",
    "- 0 bit -> H (|0>)\n",
    "- 1 bit -> D (|+>) = 1/√2 (|0> + |1>)"
   ]
  },
  {
   "cell_type": "code",
   "execution_count": null,
   "metadata": {},
   "outputs": [],
   "source": [
    "####  TASK 1  ####\n",
    "# Convert the classical bit to Qubits depending on the above scheme\n",
    "\n",
    "def prepare_states(bits, key_length):\n",
    "    qc = QuantumCircuit(key_length)  # Create a quantum circuit with qubits and classical bits\n",
    "    for i, bit in enumerate(bits):\n",
    "        ####  Code goes Here  ####\n",
    "        if(bit == 1):\n",
    "            qc.h(i)\n",
    "        \n",
    "        pass\n",
    "    return qc\n",
    "\n",
    "# Prepare Agent Alice's quantum states\n",
    "alice_qc = prepare_states(alice_bits, key_length)\n",
    "alice_qc.barrier()\n",
    "alice_qc.draw() # use keyword output=\"mpl\" for colors"
   ]
  },
  {
   "cell_type": "code",
   "execution_count": null,
   "metadata": {},
   "outputs": [],
   "source": [
    "####  Grade Task 1  ####\n",
    "#grader.Q1(alice_qc, alice_bits)"
   ]
  },
  {
   "cell_type": "markdown",
   "metadata": {},
   "source": [
    "Now that Agent A has already set up her states, Agent B is ready to receive them.\\\n",
    "Agent B has picked random Bases for the measurements."
   ]
  },
  {
   "cell_type": "code",
   "execution_count": null,
   "metadata": {},
   "outputs": [],
   "source": [
    "# Generate Bob's random bases\n",
    "def Generate_random_bases(key_length):\n",
    "    hf_key = int(key_length / 2)\n",
    "    bases = [possible_bases[0]] * hf_key + [possible_bases[1]] * (key_length - hf_key)\n",
    "    # print(bases)\n",
    "\n",
    "    rd.shuffle(bases)\n",
    "    return bases\n",
    "\n",
    "bob_bases = Generate_random_bases(key_length)\n",
    "print(\"Agent Bob's bases: \", bob_bases)"
   ]
  },
  {
   "cell_type": "markdown",
   "metadata": {},
   "source": [
    "#### TASK 2\n",
    "Qiskit by default does measurements along Z-axis (computational).\\\n",
    "However, we want the measurements along |1> and |->. Prepare the measurement Bases for Agent Bob.\\\n",
    "You only need to code for the Basis |-> measurement.\n",
    "\n",
    "- *Basis:* H, D (not to confuse with gates !)\n",
    "- H -> Z-axis (|0>, |1>)\n",
    "- D -> X-axis (|+>, |->)\n",
    "\n",
    "*Hint: Use quantum gate transformations.*"
   ]
  },
  {
   "cell_type": "code",
   "execution_count": null,
   "metadata": {},
   "outputs": [],
   "source": [
    "####  TASK 2  ####\n",
    "# Setup the measurement for D Bases for Agent Bob\n",
    "\n",
    "def measure_states(qc: QuantumCircuit, bases, key_length):\n",
    "    for i, basis in enumerate(bases):\n",
    "        ####  Code goes Here  ####\n",
    "        if basis == 'D':\n",
    "            qc.h(i)  # Apply Hadamard for X-basis measurement\n",
    "        pass\n",
    "    qc.barrier()\n",
    "    \n",
    "    # Measure all qubits\n",
    "    qc.measure_all()\n",
    "    return qc\n",
    "\n",
    "# Set up Agent Bob's measurements\n",
    "bob_qc = measure_states(alice_qc.copy(), bob_bases, key_length)\n",
    "bob_qc.draw()"
   ]
  },
  {
   "cell_type": "code",
   "execution_count": null,
   "metadata": {},
   "outputs": [],
   "source": [
    "####  Grade Task 2  ####\n",
    "#grader.Q2(bob_qc, bob_bases)"
   ]
  },
  {
   "cell_type": "markdown",
   "metadata": {},
   "source": [
    "Good, Message received and Measured. Time to get the actual data, Agent.\\\n",
    "Next up, we need to find the matched key bits."
   ]
  },
  {
   "cell_type": "code",
   "execution_count": null,
   "metadata": {},
   "outputs": [],
   "source": [
    "# Simulate the circuit using AerSimulator\n",
    "def Qsimulator(qc, msg = False):\n",
    "   # choose one depending on your system or leave default\n",
    "   #simulator = AerSimulator()\n",
    "   simulator = AerSimulator(method= \"matrix_product_state\")\n",
    "\n",
    "   # For execution (This is latest version only qiskit v1.4)\n",
    "   transpiled_qc = transpile(qc, simulator)  # Transpile the circuit for the simulator\n",
    "   sim_result = simulator.run(transpiled_qc).result()\n",
    "\n",
    "   # Agent Bob's measurements simulation\n",
    "   counts = sim_result.get_counts()\n",
    "   if(msg):\n",
    "      print(\"Measurement results:\", counts)\n",
    "   \n",
    "   return counts\n",
    "\n",
    "counts = Qsimulator(bob_qc, True)\n",
    "# To Check how many key strings generated with frequency\n",
    "# plot_histogram(counts)\n",
    "\n",
    "####  Special plot  ####\n",
    "fig = plot_histogram(counts)\n",
    "if isinstance(fig, tuple): # handles cases where fig is a tuple (fig, ax)\n",
    "   ax = fig[1]\n",
    "else:\n",
    "   ax = fig.gca()\n",
    "ax.set_xticklabels([]) # Remove x-axis labels\n",
    "fig"
   ]
  },
  {
   "cell_type": "markdown",
   "metadata": {},
   "source": [
    "#### TASK 3\n",
    "With the simulations here, you need to pick which key string are you going to choose Agent.\\\n",
    "We leave the choice upto to you. A good choice of key string can mean more matches.\n",
    "\n",
    "*Hint: You need to pick only one key string.*"
   ]
  },
  {
   "cell_type": "code",
   "execution_count": null,
   "metadata": {},
   "outputs": [],
   "source": [
    "####  TASK 3  ####\n",
    "# Convert counts to Bob's measurement results\n",
    "\n",
    "# Get the only 1 bitstring from the count's keys\n",
    "def pick_string(count_keys):\n",
    "    ####  Code goes Here  ####\n",
    "    return count_keys[0]  \n",
    "\n",
    "# Convert the key string back to bits\n",
    "bob_string = pick_string(list(counts.keys()))\n",
    "bob_bits = [int(bit) for bit in bob_string[::-1]]   # qiskit orders q0q1q2..."
   ]
  },
  {
   "cell_type": "code",
   "execution_count": null,
   "metadata": {},
   "outputs": [],
   "source": [
    "####  Grade Task 3  ####\n",
    "#grader.Q3(counts, bob_string)"
   ]
  },
  {
   "cell_type": "markdown",
   "metadata": {},
   "source": [
    "#### TASK 4\n",
    "You have picked a bit string Agent.\\\n",
    "Well, go for the next stage, try to use the B92 protocol and infer from your bases and the bit string.\\\n",
    "A correct inference will lead to success. Try to infer the bit's positions which are guaranteed 1 or 0.\\\n",
    "You can try to use the resources to find a table consisting of all combination of possibilities."
   ]
  },
  {
   "cell_type": "code",
   "execution_count": null,
   "metadata": {},
   "outputs": [],
   "source": [
    "####  TASK 4  ####\n",
    "# Record the positions where Agent B can say with confidence which bits Agent A sent depending on basis\n",
    "bit_positions = [] # put 0 or 1 on the indexes where you can say for guarantee\n",
    "\n",
    "# Also, store those indexes\n",
    "unity_index = []\n",
    "\n",
    "def infer_bits(bits, bases, key_length):\n",
    "    u_index, bit_pos = [], list([-1] * key_length)\n",
    "\n",
    "    for i, bit in enumerate(bits):\n",
    "        ####  Code goes Here  ####\n",
    "        if(bit):\n",
    "            if(bases[i] == 'D'):\n",
    "                bit_pos[i] = 0\n",
    "            elif(bases[i] == 'H'):\n",
    "                bit_pos[i] = 1\n",
    "            u_index.append(i)\n",
    "        pass\n",
    "    return u_index, bit_pos\n",
    "\n",
    "# Infered key bits from measurements\n",
    "unity_index, bit_positions = infer_bits(bob_bits, bob_bases, key_length)\n",
    "print(\"Indexes where Agent B measured |1>:\", unity_index)"
   ]
  },
  {
   "cell_type": "code",
   "execution_count": null,
   "metadata": {},
   "outputs": [],
   "source": [
    "####  Grade Task 4  ####\n",
    "#grader.Q4(unity_index, bit_positions)"
   ]
  },
  {
   "cell_type": "markdown",
   "metadata": {},
   "source": [
    "Alright Agent, Half way done.\\\n",
    "With this, let us now talk to Agent A over the public channel.\\\n",
    "We need to inform about where the |1> positions were measured, refer B92 protocol."
   ]
  },
  {
   "cell_type": "code",
   "execution_count": null,
   "metadata": {},
   "outputs": [],
   "source": [
    "# Inform Agent A about the measurements of |1>\n",
    "def inform_person(person_bits, unity_index):\n",
    "    common_key = []\n",
    "    for i in unity_index:\n",
    "        common_key.append(person_bits[i])\n",
    "    return common_key\n",
    "\n",
    "# This is for a feel of how precisely, we are able to tell which bits are exact.\n",
    "print(\"confident bits:\", bit_positions)\n",
    "print(\"Real bits:\", alice_bits)\n",
    "\n",
    "# Generate the sifted key\n",
    "alice_sifted_key = inform_person(alice_bits, unity_index)\n",
    "\n",
    "# Print the sifted key\n",
    "print(\"Sifted Key:\", alice_sifted_key)"
   ]
  },
  {
   "cell_type": "markdown",
   "metadata": {},
   "source": [
    "#### TASK 5\n",
    "With this, The device is ready, now we need to do an error check.\\\n",
    "In case, *the shifted key, comes out to be empty*. Thats because of random choice and quantum noise in simulations.\\\n",
    "Just re-run the file till you get a non-empty key."
   ]
  },
  {
   "cell_type": "code",
   "execution_count": null,
   "metadata": {},
   "outputs": [],
   "source": [
    "####  TASK 5  ####\n",
    "# Make the function which will compare the similarity between two key slices based on how many bits match\n",
    "\n",
    "# If error exceeds tolerance, then return false, else true\n",
    "# Also make sure if both lengths are equal, else its obvious fail\n",
    "def low_key_error(sifted_key_part_1, sifted_key_part_2, tolerance = 0.1):\n",
    "    err = 0\n",
    "\n",
    "    ####  Code goes Here  ####\n",
    "    for b in range(len(sifted_key_part_1)):\n",
    "        if(sifted_key_part_1[b] != sifted_key_part_2[b]):\n",
    "            err += 1\n",
    "\n",
    "    # If tolerance exceeded\n",
    "    if(tolerance < err / len(sifted_key_part_1)):\n",
    "        return False\n",
    "    return True\n",
    "\n",
    "\n",
    "# The part of the key bob and Alice will make it public for checking errors\n",
    "# You can change public_key_part to 1/2 if you feel your sifted keys are always less than 4 bits. default 1/4\n",
    "public_key_part = 1 / 4\n",
    "err_check_num = int(len(unity_index) * public_key_part)\n",
    "\n",
    "# Generate bob's sifted key also\n",
    "bob_sifted_key = inform_person(bit_positions, unity_index)\n",
    "# print(bob_sifted_key)\n",
    "\n",
    "# Part of the key has been made public and now discarded, so check for Errors\n",
    "if(err_check_num > 0):\n",
    "    print(\"Low Error in sifted keys:\", low_key_error(alice_sifted_key[:err_check_num], bob_sifted_key[:err_check_num]))\n",
    "else:\n",
    "    print(\"Key too small to compare.\")"
   ]
  },
  {
   "cell_type": "code",
   "execution_count": null,
   "metadata": {},
   "outputs": [],
   "source": [
    "####  Grade Task 5  ####\n",
    "#grader.Q5(low_key_error)"
   ]
  },
  {
   "cell_type": "code",
   "execution_count": null,
   "metadata": {},
   "outputs": [],
   "source": [
    "# Final keys\n",
    "alice_sifted_key = alice_sifted_key[err_check_num:]\n",
    "bob_sifted_key = bob_sifted_key[err_check_num:]\n",
    "\n",
    "print(\"Alice's key:\", alice_sifted_key)\n",
    "print(\"bob's key:\", bob_sifted_key)"
   ]
  },
  {
   "cell_type": "markdown",
   "metadata": {},
   "source": [
    "### Mission complete\n",
    "Well done, Agent. Time for field testing."
   ]
  },
  {
   "cell_type": "code",
   "execution_count": null,
   "metadata": {},
   "outputs": [],
   "source": [
    "#grader.display()"
   ]
  },
  {
   "cell_type": "markdown",
   "metadata": {},
   "source": [
    "### New Mission Objective:\n",
    "- Help Agent A and Agent B communicate the below message\n",
    "- Encrypt and Decrypt using the key"
   ]
  },
  {
   "cell_type": "code",
   "execution_count": null,
   "metadata": {},
   "outputs": [],
   "source": [
    "# This Agent Alice's message\n",
    "important_message = \"Eve mole\""
   ]
  },
  {
   "cell_type": "code",
   "execution_count": null,
   "metadata": {},
   "outputs": [],
   "source": [
    "# A message to bits encryption and decryption protocol\n",
    "# This return None on invalid values and on valid values returns a list of encrypted bits or string after decryption\n",
    "sample_key = [1,0,1]\n",
    "\n",
    "# Change the sample key to see the effect on sample bits\n",
    "sample_bits = encryption_decryption(\"I am Quantum\", sample_key)\n",
    "\n",
    "print(sample_bits)\n",
    "print(\"Decrypted message:\", encryption_decryption(sample_bits, sample_key, \"decryption\"))"
   ]
  },
  {
   "cell_type": "markdown",
   "metadata": {},
   "source": [
    "#### TASK 6\n",
    "Complete the full implementation for the QKD B92."
   ]
  },
  {
   "cell_type": "code",
   "execution_count": null,
   "metadata": {},
   "outputs": [],
   "source": [
    "####  TASK 6  ####\n",
    "# Use the below functions and make a complete encryption, decryption procedure\n",
    "key_length = 4 * len(important_message)\n",
    "\n",
    "# The key loop\n",
    "def generate_key_pair(trials):\n",
    "    global alice_sifted_key, bob_sifted_key, t\n",
    "    alice_sifted_key, bob_sifted_key, t = [0], [1], 0\n",
    "\n",
    "    while(alice_sifted_key != bob_sifted_key and t < trials):\n",
    "        # Generate the random bits for the key.\n",
    "\n",
    "        ####  Code goes Here  ####\n",
    "        alice_bits = generate_random_bits(key_length)\n",
    "        alice_qc = prepare_states(alice_bits, key_length)\n",
    "\n",
    "        # print(alice_bits)\n",
    "\n",
    "        bob_bases = Generate_random_bases(key_length)\n",
    "\n",
    "        # Hand over the states from Agent Alice to Agent Bob for measurement\n",
    "        bob_qc = measure_states(alice_qc, bob_bases, key_length)\n",
    "        counts = Qsimulator(bob_qc)\n",
    "\n",
    "        ####  Code goes Here  ####\n",
    "        bob_string = pick_string(list(counts.keys()))\n",
    "        bob_bits = [int(bit) for bit in bob_string[::-1]]\n",
    "\n",
    "        # print(bob_bases, len(bob_bases))\n",
    "        # print(bob_bits, len(bob_bits))\n",
    "\n",
    "        ####  Code goes Here  ####\n",
    "        unity_index, bit_positions = infer_bits(bob_bits, bob_bases, key_length)\n",
    "\n",
    "        alice_sifted_key = inform_person(alice_bits, unity_index)\n",
    "        bob_sifted_key = inform_person(bit_positions, unity_index)\n",
    "\n",
    "        err_check_num = int(len(unity_index) * public_key_part)\n",
    "\n",
    "        # Part of the key has been made public and now discarded, so check for Errors\n",
    "        if(err_check_num > 0 and 2 * err_check_num < len(unity_index)):\n",
    "            err_val = low_key_error(alice_sifted_key[:err_check_num], bob_sifted_key[:err_check_num])\n",
    "            print(\"Low Error in sifted keys:\", err_val)\n",
    "        else:\n",
    "            print(\"Key too small to compare.\")\n",
    "            t += 1\n",
    "            continue\n",
    "\n",
    "        alice_sifted_key = alice_sifted_key[err_check_num:]\n",
    "        bob_sifted_key = bob_sifted_key[err_check_num:]\n",
    "        t += 1\n",
    "\n",
    "# Number of trials to make for making key pair\n",
    "trials = 10\n",
    "generate_key_pair(trials= trials)\n",
    "print(f\"Trials taken to generate key: {t} / {trials}\")\n",
    "print(\"Alice key\", alice_sifted_key)\n",
    "print(\"Bob key\", bob_sifted_key)"
   ]
  },
  {
   "cell_type": "code",
   "execution_count": null,
   "metadata": {},
   "outputs": [],
   "source": [
    "####  Grade Task 6  ####\n",
    "#grader.Q6(alice_sifted_key, bob_sifted_key)"
   ]
  },
  {
   "cell_type": "code",
   "execution_count": null,
   "metadata": {},
   "outputs": [],
   "source": [
    "# For message transmission\n",
    "print(\"Alice sent:\", important_message)\n",
    "\n",
    "# Alice encrypts using her key\n",
    "encrypted_message = encryption_decryption(important_message, alice_sifted_key)\n",
    "\n",
    "print(\"Encrypted binary message:\", encrypted_message)\n",
    "\n",
    "# Hand over the message over public communication\n",
    "# Bob decrypts using his key\n",
    "decrypted_message = encryption_decryption(encrypted_message, bob_sifted_key, \"decryption\")\n",
    "print(\"Bob reads:\", decrypted_message)"
   ]
  },
  {
   "cell_type": "markdown",
   "metadata": {},
   "source": [
    "### *Optional* Mission Objective:\n",
    "- Find if Agent E (a mole) was intercepting the message or not.\n",
    "- Implement the B92 Quantum Key Distribution's Error / intercepted protocol. \n",
    "- Ensure that Agent E gets detected."
   ]
  },
  {
   "cell_type": "code",
   "execution_count": null,
   "metadata": {},
   "outputs": [],
   "source": [
    "def interception(qc: QuantumCircuit, key_length):\n",
    "    # Eve chooses only 'H' or 'D' basis for interception\n",
    "    eve_bases = [rd.choice(possible_bases)] * key_length\n",
    "    eve_qc = measure_states(qc, eve_bases, key_length)\n",
    "\n",
    "    # Simulate the message reading\n",
    "    counts = Qsimulator(eve_qc)\n",
    "    bit_string = [key for key in counts if counts[key] == max(counts.values())][0]\n",
    "\n",
    "    # Get the eve bits\n",
    "    eve_bits = [int(bit) for bit in bit_string[::-1]]\n",
    "    # print(eve_bits)\n",
    "\n",
    "    _, bit_positions = infer_bits(eve_bits, eve_bases, key_length)\n",
    "    eve_index = [i for i in bit_positions]\n",
    "    # print(eve_index)\n",
    "\n",
    "    # Since eve has measured the states, she will need to create a new state so that bob gets the states\n",
    "    eve_qc = QuantumCircuit(key_length)\n",
    "\n",
    "    # For case 'H'\n",
    "    for i, bit in enumerate(eve_index):\n",
    "        if(bit == -1):\n",
    "            # Assigns random bits for non-confident places\n",
    "            if(rd.randint(0,1)):\n",
    "                eve_qc.h(i)\n",
    "        elif(bit == 1):\n",
    "            eve_qc.h(i)\n",
    "\n",
    "    return eve_qc, eve_index"
   ]
  },
  {
   "cell_type": "code",
   "execution_count": null,
   "metadata": {},
   "outputs": [],
   "source": [
    "# We will check for the intercepted message only once and see we can detect Agent E intercepting the message\n",
    "alice_sifted_key, bob_sifted_key, eve_sifted_key = [], [], []\n",
    "key_length = 4 * len(important_message)\n",
    "\n",
    "# Same process of key\n",
    "alice_bits = generate_random_bits(key_length)\n",
    "alice_qc = prepare_states(alice_bits, key_length)\n",
    "\n",
    "# Hand over the states over public channel\n",
    "# Agent E intercepts the message or maybe not\n",
    "intercepted_qc = alice_qc\n",
    "\n",
    "# Random chance of interception\n",
    "if(rd.randint(0,5) > 3):\n",
    "    intercepted_qc, eve_sifted_key = interception(alice_qc, key_length)\n",
    "\n",
    "# Agent Bob gets the intercepted states\n",
    "bob_bases = Generate_random_bases(key_length)\n",
    "bob_qc = measure_states(intercepted_qc, bob_bases, key_length)\n",
    "\n",
    "# Agent B doesn't know yet message has been intercepted\n",
    "counts = Qsimulator(bob_qc)\n",
    "\n",
    "bob_string = pick_string(list(counts.keys()))\n",
    "bob_bits = [int(bit) for bit in bob_string[::-1]]\n",
    "\n",
    "unity_index, bit_positions = infer_bits(bob_bits, bob_bases, key_length)\n",
    "\n",
    "alice_sifted_key = inform_person(alice_bits, unity_index)\n",
    "bob_sifted_key = inform_person(bit_positions, unity_index)\n",
    "\n",
    "err_check_num = int(len(unity_index) * public_key_part)\n",
    "\n",
    "# Part of the key has been made public and now discarded, so check for Errors\n",
    "if(err_check_num > 0 and 2 * err_check_num < len(unity_index)):\n",
    "    err_val = low_key_error(alice_sifted_key[:err_check_num], bob_sifted_key[:err_check_num], tolerance= 0.05)\n",
    "    print(\"Low Error in sifted keys:\", err_val)\n",
    "    \n",
    "    # If err_val goes false\n",
    "    ####  Code goes here  ####\n",
    "    if(not err_val):\n",
    "        print(\"Agent E detected!\")\n",
    "else:\n",
    "    print(\"Key too small to compare.\")\n",
    "\n",
    "alice_sifted_key = alice_sifted_key[err_check_num:]\n",
    "bob_sifted_key = bob_sifted_key[err_check_num:]\n",
    "\n",
    "if(alice_sifted_key != bob_sifted_key):\n",
    "    print(\"\\nKey mismatch!\")\n",
    "print(\"Agent Alice key\", alice_sifted_key)\n",
    "print(\"Agent Bob key\", bob_sifted_key)"
   ]
  },
  {
   "cell_type": "markdown",
   "metadata": {},
   "source": [
    "#### *For any doubts contact admin first.*\n",
    "- Notebook by Anshurup gupta\\\n",
    "[email: anshurup_2301ai02@iitp.ac.in](mailto:anshurup_2301ai02@iitp.ac.in)\n",
    "\n",
    "- QTC, IIT Patna ©2025"
   ]
  }
 ],
 "metadata": {
  "kernelspec": {
   "display_name": ".venv",
   "language": "python",
   "name": "python3"
  },
  "language_info": {
   "codemirror_mode": {
    "name": "ipython",
    "version": 3
   },
   "file_extension": ".py",
   "mimetype": "text/x-python",
   "name": "python",
   "nbconvert_exporter": "python",
   "pygments_lexer": "ipython3",
   "version": "3.12.0"
  }
 },
 "nbformat": 4,
 "nbformat_minor": 2
}
